{
 "cells": [
  {
   "metadata": {
    "ExecuteTime": {
     "end_time": "2024-09-24T14:02:31.130163Z",
     "start_time": "2024-09-24T14:02:28.405031Z"
    }
   },
   "cell_type": "code",
   "source": [
    "import csv\n",
    "from pyhealth.datasets import MIMIC3Dataset, MIMIC4Dataset\n",
    "\n",
    "from data_prepare import clustering\n",
    "from graphcare_.task_fn import drug_recommendation_fn, drug_recommendation_mimic4_fn, mortality_prediction_mimic3_fn, \\\n",
    "    readmission_prediction_mimic3_fn, length_of_stay_prediction_mimic3_fn, length_of_stay_prediction_mimic4_fn, \\\n",
    "    mortality_prediction_mimic4_fn, readmission_prediction_mimic4_fn\n",
    "import pickle\n",
    "import json\n",
    "from pyhealth.tokenizer import Tokenizer\n",
    "import numpy as np\n",
    "from tqdm import tqdm\n",
    "import torch\n",
    "from sklearn.cluster import AgglomerativeClustering\n",
    "from collections import defaultdict\n",
    "import networkx as nx\n",
    "from torch_geometric.utils import to_networkx, from_networkx"
   ],
   "id": "6072968a18aacdfc",
   "outputs": [],
   "execution_count": 1
  },
  {
   "cell_type": "code",
   "id": "initial_id",
   "metadata": {
    "collapsed": true,
    "ExecuteTime": {
     "end_time": "2024-09-24T14:02:31.161390Z",
     "start_time": "2024-09-24T14:02:31.138519Z"
    }
   },
   "source": [
    "def clustering(task, ent_emb, rel_emb, threshold=0.15, load_cluster=False, save_cluster=True):\n",
    "    if task == \"drugrec\" or task == \"lenofstay\":\n",
    "        path = \"/data/pj20/exp_data/ccscm_ccsproc\"\n",
    "    else:\n",
    "        path = \"/data/pj20/exp_data/ccscm_ccsproc_atc3\"\n",
    "\n",
    "    if load_cluster:\n",
    "        with open(f'{path}/clusters_th015.json', 'r', encoding='utf-8') as f:\n",
    "            map_cluster = json.load(f)\n",
    "        with open(f'{path}/clusters_inv_th015.json', 'r', encoding='utf-8') as f:\n",
    "            map_cluster_inv = json.load(f)\n",
    "        with open(f'{path}/clusters_rel_th015.json', 'r', encoding='utf-8') as f:\n",
    "            map_cluster_rel = json.load(f)\n",
    "        with open(f'{path}/clusters_inv_rel_th015.json', 'r', encoding='utf-8') as f:\n",
    "            map_cluster_inv_rel = json.load(f)\n",
    "\n",
    "    else:\n",
    "        cluster_alg = AgglomerativeClustering(n_clusters=None, distance_threshold=threshold, linkage='average',\n",
    "                                              affinity='cosine')\n",
    "        cluster_labels = cluster_alg.fit_predict(ent_emb)\n",
    "        cluster_labels_rel = cluster_alg.fit_predict(rel_emb)\n",
    "\n",
    "        def nested_dict():\n",
    "            return defaultdict(list)\n",
    "\n",
    "        map_cluster = defaultdict(nested_dict)\n",
    "\n",
    "        for unique_l in np.unique(cluster_labels):\n",
    "            for cur in range(len(cluster_labels)):\n",
    "                if cluster_labels[cur] == unique_l:\n",
    "                    map_cluster[str(unique_l)]['nodes'].append(cur)\n",
    "\n",
    "        for unique_l in map_cluster.keys():\n",
    "            nodes = map_cluster[unique_l]['nodes']\n",
    "            nodes = np.array(nodes)\n",
    "            embedding_mean = np.mean(ent_emb[nodes], axis=0)\n",
    "            map_cluster[unique_l]['embedding'].append(embedding_mean.tolist())\n",
    "\n",
    "        map_cluster_inv = {}\n",
    "        for cluster_label, item in map_cluster.items():\n",
    "            for node in item['nodes']:\n",
    "                map_cluster_inv[str(node)] = cluster_label\n",
    "\n",
    "        map_cluster_rel = defaultdict(nested_dict)\n",
    "\n",
    "        for unique_l in np.unique(cluster_labels_rel):\n",
    "            for cur in range(len(cluster_labels_rel)):\n",
    "                if cluster_labels_rel[cur] == unique_l:\n",
    "                    map_cluster_rel[str(unique_l)]['relations'].append(cur)\n",
    "\n",
    "        for unique_l in map_cluster_rel.keys():\n",
    "            nodes = map_cluster_rel[unique_l]['relations']\n",
    "            nodes = np.array(nodes)\n",
    "            embedding_mean = np.mean(ent_emb[nodes], axis=0)\n",
    "            map_cluster_rel[unique_l]['embedding'].append(embedding_mean.tolist())\n",
    "\n",
    "        map_cluster_inv_rel = {}\n",
    "        for cluster_label, item in map_cluster_rel.items():\n",
    "            for node in item['relations']:\n",
    "                map_cluster_inv_rel[str(node)] = cluster_label\n",
    "\n",
    "        if save_cluster:\n",
    "            with open(f'{path}/clusters_th015.json', 'w', encoding='utf-8') as f:\n",
    "                json.dump(map_cluster, f, indent=6)\n",
    "            with open(f'{path}/clusters_inv_th015.json', 'w', encoding='utf-8') as f:\n",
    "                json.dump(map_cluster_inv, f, indent=6)\n",
    "            with open(f'{path}/clusters_rel_th015.json', 'w', encoding='utf-8') as f:\n",
    "                json.dump(map_cluster_rel, f, indent=6)\n",
    "            with open(f'{path}/clusters_inv_rel_th015.json', 'w', encoding='utf-8') as f:\n",
    "                json.dump(map_cluster_inv_rel, f, indent=6)\n",
    "\n",
    "    return map_cluster, map_cluster_inv, map_cluster_rel, map_cluster_inv_rel"
   ],
   "outputs": [],
   "execution_count": 2
  },
  {
   "metadata": {
    "ExecuteTime": {
     "end_time": "2024-09-24T14:02:31.490272Z",
     "start_time": "2024-09-24T14:02:31.476941Z"
    }
   },
   "cell_type": "code",
   "source": [
    "def load_embeddings(task):\n",
    "    if task == \"drugrec\" or task == \"lenofstay\":\n",
    "        with open('./graphs/cond_proc/CCSCM_CCSPROC/ent2id.json', 'r') as file:\n",
    "            ent2id = json.load(file)\n",
    "        with open('./graphs/cond_proc/CCSCM_CCSPROC/rel2id.json', 'r') as file:\n",
    "            rel2id = json.load(file)\n",
    "        with open('./graphs/cond_proc/CCSCM_CCSPROC/entity_embedding.pkl', 'rb') as file:\n",
    "            ent_emb = pickle.load(file)\n",
    "        with open('./graphs/cond_proc/CCSCM_CCSPROC/relation_embedding.pkl', 'rb') as file:\n",
    "            rel_emb = pickle.load(file)\n",
    "\n",
    "    elif task == \"mortality\" or task == \"readmission\":\n",
    "        with open('./graphs/cond_proc_drug/CCSCM_CCSPROC_ATC3/ent2id.json', 'r') as file:\n",
    "            ent2id = json.load(file)\n",
    "        with open('./graphs/cond_proc_drug/CCSCM_CCSPROC_ATC3/rel2id.json', 'r') as file:\n",
    "            rel2id = json.load(file)\n",
    "        with open('./graphs/cond_proc_drug/CCSCM_CCSPROC_ATC3/entity_embedding.pkl', 'rb') as file:\n",
    "            ent_emb = pickle.load(file)\n",
    "        with open('./graphs/cond_proc_drug/CCSCM_CCSPROC_ATC3/relation_embedding.pkl', 'rb') as file:\n",
    "            rel_emb = pickle.load(file)\n",
    "\n",
    "    return ent2id, rel2id, ent_emb, rel_emb"
   ],
   "id": "db13af49653fc68e",
   "outputs": [],
   "execution_count": 3
  },
  {
   "metadata": {
    "jupyter": {
     "is_executing": true
    },
    "ExecuteTime": {
     "start_time": "2024-09-24T14:02:31.515553Z"
    }
   },
   "cell_type": "code",
   "source": [
    "tasks = [\n",
    "    \"drugrec\",\n",
    "    \"mortality\",\n",
    "    \"readmission\",\n",
    "    \"lenofstay\"\n",
    "]\n",
    "\n",
    "for task in tqdm(tasks):\n",
    "    print(\"Loading embeddings...\")\n",
    "    ent2id, rel2id, ent_emb, rel_emb = load_embeddings(task)\n",
    "    print(\"Clustering...\")\n",
    "    map_cluster, map_cluster_inv, map_cluster_rel, map_cluster_inv_rel = clustering(task, ent_emb, rel_emb,\n",
    "                                                                                    threshold=0.15,\n",
    "                                                                                    load_cluster=False,\n",
    "                                                                                    save_cluster=True)"
   ],
   "id": "b48164af89384469",
   "outputs": [
    {
     "name": "stderr",
     "output_type": "stream",
     "text": [
      "  0%|          | 0/4 [00:00<?, ?it/s]"
     ]
    },
    {
     "name": "stdout",
     "output_type": "stream",
     "text": [
      "Loading embeddings...\n",
      "Clustering...\n"
     ]
    },
    {
     "name": "stderr",
     "output_type": "stream",
     "text": [
      "D:\\Anaconda\\envs\\limu\\lib\\site-packages\\sklearn\\cluster\\_agglomerative.py:983: FutureWarning: Attribute `affinity` was deprecated in version 1.2 and will be removed in 1.4. Use `metric` instead\n",
      "  warnings.warn(\n"
     ]
    }
   ],
   "execution_count": null
  },
  {
   "metadata": {},
   "cell_type": "code",
   "outputs": [],
   "execution_count": null,
   "source": "",
   "id": "eeff991217ec3403"
  }
 ],
 "metadata": {
  "kernelspec": {
   "display_name": "Python 3",
   "language": "python",
   "name": "python3"
  },
  "language_info": {
   "codemirror_mode": {
    "name": "ipython",
    "version": 2
   },
   "file_extension": ".py",
   "mimetype": "text/x-python",
   "name": "python",
   "nbconvert_exporter": "python",
   "pygments_lexer": "ipython2",
   "version": "2.7.6"
  }
 },
 "nbformat": 4,
 "nbformat_minor": 5
}
